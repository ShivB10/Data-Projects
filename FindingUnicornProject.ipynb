{
 "cells": [
  {
   "cell_type": "markdown",
   "id": "33dda299-ad0e-4262-b285-7d1297a3ba66",
   "metadata": {},
   "source": [
    "![Hand with calculator](calculator.jpg)\n",
    "\n",
    "Did you know that the average return from investing in stocks is [10% per year](https://www.nerdwallet.com/article/investing/average-stock-market-return) (not accounting for inflation)? But who wants to be average?! \n",
    "\n",
    "You have been asked to support an investment firm by analyzing trends in high-growth companies. They are interested in understanding which industries are producing the highest valuations and the rate at which new high-value companies are emerging. Providing them with this information gives them a competitive insight as to industry trends and how they should structure their portfolio looking forward.\n",
    "\n",
    "You have been given access to their `unicorns` database, which contains the following tables:\n",
    "\n",
    "## dates\n",
    "| Column       | Description                                  |\n",
    "|------------- |--------------------------------------------- |\n",
    "| `company_id`   | A unique ID for the company.                 |\n",
    "| `date_joined` | The date that the company became a unicorn.  |\n",
    "| `year_founded` | The year that the company was founded.       |\n",
    "\n",
    "## funding\n",
    "| Column           | Description                                  |\n",
    "|----------------- |--------------------------------------------- |\n",
    "| `company_id`       | A unique ID for the company.                 |\n",
    "| `valuation`        | Company value in US dollars.                 |\n",
    "| `funding`          | The amount of funding raised in US dollars.  |\n",
    "| `select_investors` | A list of key investors in the company.      |\n",
    "\n",
    "## industries\n",
    "| Column       | Description                                  |\n",
    "|------------- |--------------------------------------------- |\n",
    "| `company_id`   | A unique ID for the company.                 |\n",
    "| `industry`     | The industry that the company operates in.   |\n",
    "\n",
    "## companies\n",
    "| Column       | Description                                       |\n",
    "|------------- |-------------------------------------------------- |\n",
    "| `company_id`   | A unique ID for the company.                      |\n",
    "| `company`      | The name of the company.                          |\n",
    "| `city`         | The city where the company is headquartered.      |\n",
    "| `country`      | The country where the company is headquartered.   |\n",
    "| `continent`    | The continent where the company is headquartered. |\n"
   ]
  },
  {
   "cell_type": "markdown",
   "id": "48a34f18-9207-4a1d-9c91-0b1a4aec770d",
   "metadata": {},
   "source": [
    "# The output\n",
    "\n",
    "Your query should return a table in the following format:\n",
    "| industry  | year | num\\_unicorns       | average\\_valuation\\_billions |\n",
    "| --------- | ---- | ------------------- | ---------------------------- |\n",
    "| industry1 | 2021 |        ---          |             ---              |\n",
    "| industry2 | 2020 |        ---          |             ---              |\n",
    "| industry3 | 2019 |        ---          |             ---              |\n",
    "| industry1 | 2021 |        ---          |             ---              |\n",
    "| industry2 | 2020 |        ---          |             ---              |\n",
    "| industry3 | 2019 |        ---          |             ---              |\n",
    "| industry1 | 2021 |        ---          |             ---              |\n",
    "| industry2 | 2020 |        ---          |             ---              |\n",
    "| industry3 | 2019 |        ---          |             ---              |\n",
    "\n",
    "Where `industry1`, `industry2`, and `industry3` are the three top-performing industries."
   ]
  },
  {
   "cell_type": "code",
   "execution_count": 1,
   "id": "8d7d8de9-5da9-4b35-bc60-9f0502eb56d6",
   "metadata": {
    "customType": "sql",
    "dataFrameVariableName": "query",
    "executionCancelledAt": null,
    "executionTime": null,
    "lastExecutedAt": null,
    "lastScheduledRunId": null,
    "lastSuccessfullyExecutedCode": null,
    "outputsMetadata": {
     "0": {
      "height": 284,
      "type": "dataFrame"
     }
    },
    "sqlCellMode": "query",
    "sqlSource": {
     "integrationId": "89e17161-a224-4a8a-846b-0adc0fe7a4b1",
     "type": "integration"
    }
   },
   "outputs": [
    {
     "ename": "SyntaxError",
     "evalue": "invalid syntax (1914740973.py, line 1)",
     "output_type": "error",
     "traceback": [
      "\u001b[0;36m  File \u001b[0;32m\"/var/folders/_h/ls2v2rwd6blc_2bh3jxz_qt40000gp/T/ipykernel_98216/1914740973.py\"\u001b[0;36m, line \u001b[0;32m1\u001b[0m\n\u001b[0;31m    WITH top_industries AS\u001b[0m\n\u001b[0m         ^\u001b[0m\n\u001b[0;31mSyntaxError\u001b[0m\u001b[0;31m:\u001b[0m invalid syntax\n"
     ]
    }
   ],
   "source": [
    "WITH top_industries AS\n",
    "(\n",
    "    SELECT i.industry, \n",
    "        COUNT(i.*)\n",
    "    FROM industries AS i\n",
    "    INNER JOIN dates AS d\n",
    "        ON i.company_id = d.company_id\n",
    "    WHERE EXTRACT(year FROM d.date_joined) in ('2019', '2020', '2021')\n",
    "    GROUP BY industry\n",
    "    ORDER BY count DESC\n",
    "    LIMIT 3\n",
    "),\n",
    "\n",
    "yearly_rankings AS \n",
    "(\n",
    "    SELECT COUNT(i.*) AS num_unicorns,\n",
    "        i.industry,\n",
    "        EXTRACT(year FROM d.date_joined) AS year,\n",
    "        AVG(f.valuation) AS average_valuation\n",
    "    FROM industries AS i\n",
    "    INNER JOIN dates AS d\n",
    "        ON i.company_id = d.company_id\n",
    "    INNER JOIN funding AS f\n",
    "        ON d.company_id = f.company_id\n",
    "    GROUP BY industry, year\n",
    ")\n",
    "\n",
    "SELECT industry,\n",
    "    year,\n",
    "    num_unicorns,\n",
    "    ROUND(AVG(average_valuation / 1000000000), 2) AS average_valuation_billions\n",
    "FROM yearly_rankings\n",
    "WHERE year in ('2019', '2020', '2021')\n",
    "    AND industry in (SELECT industry\n",
    "                    FROM top_industries)\n",
    "GROUP BY industry, num_unicorns, year\n",
    "ORDER BY year DESC, num_unicorns DESC"
   ]
  },
  {
   "cell_type": "code",
   "execution_count": null,
   "id": "5da1d25c",
   "metadata": {},
   "outputs": [],
   "source": []
  }
 ],
 "metadata": {
  "colab": {
   "name": "Welcome to DataCamp Workspaces.ipynb",
   "provenance": []
  },
  "kernelspec": {
   "display_name": "Python 3 (ipykernel)",
   "language": "python",
   "name": "python3"
  },
  "language_info": {
   "codemirror_mode": {
    "name": "ipython",
    "version": 3
   },
   "file_extension": ".py",
   "mimetype": "text/x-python",
   "name": "python",
   "nbconvert_exporter": "python",
   "pygments_lexer": "ipython3",
   "version": "3.9.13"
  }
 },
 "nbformat": 4,
 "nbformat_minor": 5
}
